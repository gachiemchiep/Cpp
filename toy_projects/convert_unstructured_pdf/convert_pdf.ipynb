{
 "cells": [
  {
   "cell_type": "markdown",
   "id": "6942d889",
   "metadata": {},
   "source": [
    "## Convert images into pdf, excel\n",
    "\n",
    " - [x] jpg -> pdf\n",
    " - []  jpg -> doc\n",
    " - [] jpg -> pdf -> excel\n"
   ]
  },
  {
   "cell_type": "markdown",
   "id": "9ac4da65",
   "metadata": {},
   "source": [
    "# A. jpg -> pdf\n",
    "\n",
    "### Input image \n",
    "![sample book](sample/sample.jpg \"Sample book page\")\n",
    "\n",
    "### flow\n",
    "\n",
    "![sample book](sample/JpgToPdf.jpg \"Sample book page\")"
   ]
  },
  {
   "cell_type": "markdown",
   "id": "8d6006fd",
   "metadata": {},
   "source": [
    "## 0. Install requirements\n",
    "\n",
    "tesseract\n",
    "\n",
    "```bash\n",
    "sudo apt install tesseract-ocr\n",
    "sudo apt install libtesseract-dev\n",
    "sudo apt-get install tesseract-ocr-all\n",
    "```\n",
    "\n",
    "hocr-tools\n",
    "\n",
    "```bash\n",
    "pip install hocr-tools\n",
    "```"
   ]
  },
  {
   "cell_type": "markdown",
   "id": "fbd14660",
   "metadata": {},
   "source": [
    "### 1. Use tesseract to extract text as hOCR format\n",
    "\n",
    "hOCR format definition:  [http://kba.cloud/hocr-spec/1.2](http://kba.cloud/hocr-spec/1.2)"
   ]
  },
  {
   "cell_type": "code",
   "execution_count": 1,
   "id": "9970c8b8",
   "metadata": {},
   "outputs": [
    {
     "name": "stderr",
     "output_type": "stream",
     "text": [
      "Tesseract Open Source OCR Engine v4.0.0-beta.1 with Leptonica\n",
      "Warning. Invalid resolution 0 dpi. Using 70 instead.\n",
      "Estimating resolution as 318\n",
      "Detected 62 diacritics\n"
     ]
    }
   ],
   "source": [
    "%%bash\n",
    "tesseract sample/sample.jpg sample hocr"
   ]
  },
  {
   "cell_type": "markdown",
   "id": "6a2a2fc2",
   "metadata": {},
   "source": [
    "### 2. Convert into pdf using hocr-tools"
   ]
  },
  {
   "cell_type": "code",
   "execution_count": 3,
   "id": "5274b4f3",
   "metadata": {},
   "outputs": [
    {
     "name": "stderr",
     "output_type": "stream",
     "text": [
      "/home/jil/opt/miniconda2/envs/py3/bin/hocr-pdf:134: DeprecationWarning: decodestring() is a deprecated alias since Python 3.1, use decodebytes()\n",
      "  uncompressed = bytearray(zlib.decompress(base64.decodestring(font)))\n"
     ]
    }
   ],
   "source": [
    "%%bash \n",
    "hocr-pdf . > sample.pdf"
   ]
  },
  {
   "cell_type": "markdown",
   "id": "1ca22bcb",
   "metadata": {},
   "source": [
    "# B. jpg -> pdf -> excel\n",
    "\n",
    "### Input image \n",
    "![sample book](sample/sample2.jpg \"Sample book page\")\n",
    "\n",
    "### flow\n",
    "\n",
    "![sample book](sample/JpgToExcel.jpg \"Sample book page\")"
   ]
  },
  {
   "cell_type": "code",
   "execution_count": null,
   "id": "08e9e814",
   "metadata": {},
   "outputs": [],
   "source": [
    "Working on this"
   ]
  }
 ],
 "metadata": {
  "kernelspec": {
   "display_name": "Python 3",
   "language": "python",
   "name": "python3"
  },
  "language_info": {
   "codemirror_mode": {
    "name": "ipython",
    "version": 3
   },
   "file_extension": ".py",
   "mimetype": "text/x-python",
   "name": "python",
   "nbconvert_exporter": "python",
   "pygments_lexer": "ipython3",
   "version": "3.7.10"
  }
 },
 "nbformat": 4,
 "nbformat_minor": 5
}
