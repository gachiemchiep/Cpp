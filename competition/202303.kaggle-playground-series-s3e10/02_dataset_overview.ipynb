{
 "cells": [
  {
   "cell_type": "code",
   "execution_count": 1,
   "id": "a6f2657a-5050-426b-be34-d0385e9bd9ad",
   "metadata": {},
   "outputs": [],
   "source": [
    "import pandas as pd\n",
    "import pickle\n",
    "import autogluon.eda.auto as auto\n"
   ]
  },
  {
   "cell_type": "code",
   "execution_count": 2,
   "id": "bf6cca3a-a638-4209-b4e1-7e26404ea35e",
   "metadata": {},
   "outputs": [],
   "source": [
    "TRAIN_PATH = \"playground-series-s3e10/train.csv\"\n",
    "TEST_PATH = \"playground-series-s3e10/test.csv\"\n",
    "SAMPLE_SUBISSION_PATH = \"playground-series-s3e10/sample_submission.csv\"\n",
    "SUBMISSION_PATH = \"submission.csv\"\n",
    "TARGET = \"Class\"\n",
    "NEGATIVE_FEATURES = \"negative_features\"\n"
   ]
  },
  {
   "cell_type": "code",
   "execution_count": 3,
   "id": "442f8b97-c996-49a4-b5f1-16a4c09aab21",
   "metadata": {},
   "outputs": [],
   "source": [
    "negative_features_list = [\"id\"] \n",
    "train_data = pd.read_csv(TRAIN_PATH).drop(negative_features_list, axis=1)\n",
    "test_data = pd.read_csv(TEST_PATH).drop(negative_features_list, axis=1)"
   ]
  },
  {
   "cell_type": "code",
   "execution_count": 4,
   "id": "06342ff5-8821-4de5-86b9-a518f471c29d",
   "metadata": {},
   "outputs": [
    {
     "data": {
      "text/markdown": [
       "**`train_data` dataset summary**"
      ],
      "text/plain": [
       "<IPython.core.display.Markdown object>"
      ]
     },
     "metadata": {},
     "output_type": "display_data"
    },
    {
     "data": {
      "text/html": [
       "<div>\n",
       "<style scoped>\n",
       "    .dataframe tbody tr th:only-of-type {\n",
       "        vertical-align: middle;\n",
       "    }\n",
       "\n",
       "    .dataframe tbody tr th {\n",
       "        vertical-align: top;\n",
       "    }\n",
       "\n",
       "    .dataframe thead th {\n",
       "        text-align: right;\n",
       "    }\n",
       "</style>\n",
       "<table border=\"1\" class=\"dataframe\">\n",
       "  <thead>\n",
       "    <tr style=\"text-align: right;\">\n",
       "      <th></th>\n",
       "      <th>count</th>\n",
       "      <th>mean</th>\n",
       "      <th>std</th>\n",
       "      <th>min</th>\n",
       "      <th>25%</th>\n",
       "      <th>50%</th>\n",
       "      <th>75%</th>\n",
       "      <th>max</th>\n",
       "      <th>dtypes</th>\n",
       "      <th>unique</th>\n",
       "      <th>missing_count</th>\n",
       "      <th>missing_ratio</th>\n",
       "      <th>raw_type</th>\n",
       "      <th>special_types</th>\n",
       "    </tr>\n",
       "  </thead>\n",
       "  <tbody>\n",
       "    <tr>\n",
       "      <th>Class</th>\n",
       "      <td>117564</td>\n",
       "      <td>0.093285</td>\n",
       "      <td>0.290833</td>\n",
       "      <td>0.000000</td>\n",
       "      <td>0.000000</td>\n",
       "      <td>0.000000</td>\n",
       "      <td>0.000000</td>\n",
       "      <td>1.000000</td>\n",
       "      <td>int64</td>\n",
       "      <td>2</td>\n",
       "      <td></td>\n",
       "      <td></td>\n",
       "      <td>int</td>\n",
       "      <td></td>\n",
       "    </tr>\n",
       "    <tr>\n",
       "      <th>EK</th>\n",
       "      <td>117564</td>\n",
       "      <td>0.503498</td>\n",
       "      <td>1.127093</td>\n",
       "      <td>-1.730782</td>\n",
       "      <td>0.049761</td>\n",
       "      <td>0.186498</td>\n",
       "      <td>0.395620</td>\n",
       "      <td>7.879628</td>\n",
       "      <td>float64</td>\n",
       "      <td>37132</td>\n",
       "      <td></td>\n",
       "      <td></td>\n",
       "      <td>float</td>\n",
       "      <td></td>\n",
       "    </tr>\n",
       "    <tr>\n",
       "      <th>EK_DMSNR_Curve</th>\n",
       "      <td>117564</td>\n",
       "      <td>8.037488</td>\n",
       "      <td>3.840980</td>\n",
       "      <td>-2.597872</td>\n",
       "      <td>6.742911</td>\n",
       "      <td>8.442883</td>\n",
       "      <td>10.003237</td>\n",
       "      <td>34.539844</td>\n",
       "      <td>float64</td>\n",
       "      <td>42870</td>\n",
       "      <td></td>\n",
       "      <td></td>\n",
       "      <td>float</td>\n",
       "      <td></td>\n",
       "    </tr>\n",
       "    <tr>\n",
       "      <th>Mean_DMSNR_Curve</th>\n",
       "      <td>117564</td>\n",
       "      <td>11.962921</td>\n",
       "      <td>26.719946</td>\n",
       "      <td>0.213211</td>\n",
       "      <td>2.090301</td>\n",
       "      <td>2.808528</td>\n",
       "      <td>4.122910</td>\n",
       "      <td>217.371238</td>\n",
       "      <td>float64</td>\n",
       "      <td>12474</td>\n",
       "      <td></td>\n",
       "      <td></td>\n",
       "      <td>float</td>\n",
       "      <td></td>\n",
       "    </tr>\n",
       "    <tr>\n",
       "      <th>Mean_Integrated</th>\n",
       "      <td>117564</td>\n",
       "      <td>111.248300</td>\n",
       "      <td>24.906474</td>\n",
       "      <td>6.054688</td>\n",
       "      <td>104.546875</td>\n",
       "      <td>116.664062</td>\n",
       "      <td>126.296875</td>\n",
       "      <td>189.367188</td>\n",
       "      <td>float64</td>\n",
       "      <td>11065</td>\n",
       "      <td></td>\n",
       "      <td></td>\n",
       "      <td>float</td>\n",
       "      <td></td>\n",
       "    </tr>\n",
       "    <tr>\n",
       "      <th>SD</th>\n",
       "      <td>117564</td>\n",
       "      <td>46.713535</td>\n",
       "      <td>6.102941</td>\n",
       "      <td>24.783273</td>\n",
       "      <td>43.443390</td>\n",
       "      <td>47.478932</td>\n",
       "      <td>50.862718</td>\n",
       "      <td>93.602933</td>\n",
       "      <td>float64</td>\n",
       "      <td>49262</td>\n",
       "      <td></td>\n",
       "      <td></td>\n",
       "      <td>float</td>\n",
       "      <td></td>\n",
       "    </tr>\n",
       "    <tr>\n",
       "      <th>SD_DMSNR_Curve</th>\n",
       "      <td>117564</td>\n",
       "      <td>26.190678</td>\n",
       "      <td>20.041937</td>\n",
       "      <td>7.370432</td>\n",
       "      <td>14.955405</td>\n",
       "      <td>18.164924</td>\n",
       "      <td>24.732218</td>\n",
       "      <td>109.890785</td>\n",
       "      <td>float64</td>\n",
       "      <td>48050</td>\n",
       "      <td></td>\n",
       "      <td></td>\n",
       "      <td>float</td>\n",
       "      <td></td>\n",
       "    </tr>\n",
       "    <tr>\n",
       "      <th>Skewness</th>\n",
       "      <td>117564</td>\n",
       "      <td>1.886385</td>\n",
       "      <td>6.515466</td>\n",
       "      <td>-1.791886</td>\n",
       "      <td>-0.188956</td>\n",
       "      <td>0.091720</td>\n",
       "      <td>0.691613</td>\n",
       "      <td>65.385974</td>\n",
       "      <td>float64</td>\n",
       "      <td>41366</td>\n",
       "      <td></td>\n",
       "      <td></td>\n",
       "      <td>float</td>\n",
       "      <td></td>\n",
       "    </tr>\n",
       "    <tr>\n",
       "      <th>Skewness_DMSNR_Curve</th>\n",
       "      <td>117564</td>\n",
       "      <td>93.881076</td>\n",
       "      <td>79.962110</td>\n",
       "      <td>-1.976976</td>\n",
       "      <td>49.409136</td>\n",
       "      <td>83.421375</td>\n",
       "      <td>122.093290</td>\n",
       "      <td>1191.000837</td>\n",
       "      <td>float64</td>\n",
       "      <td>50648</td>\n",
       "      <td></td>\n",
       "      <td></td>\n",
       "      <td>float</td>\n",
       "      <td></td>\n",
       "    </tr>\n",
       "  </tbody>\n",
       "</table>\n",
       "</div>"
      ],
      "text/plain": [
       "                       count        mean        std        min         25%  \\\n",
       "Class                 117564    0.093285   0.290833   0.000000    0.000000   \n",
       "EK                    117564    0.503498   1.127093  -1.730782    0.049761   \n",
       "EK_DMSNR_Curve        117564    8.037488   3.840980  -2.597872    6.742911   \n",
       "Mean_DMSNR_Curve      117564   11.962921  26.719946   0.213211    2.090301   \n",
       "Mean_Integrated       117564  111.248300  24.906474   6.054688  104.546875   \n",
       "SD                    117564   46.713535   6.102941  24.783273   43.443390   \n",
       "SD_DMSNR_Curve        117564   26.190678  20.041937   7.370432   14.955405   \n",
       "Skewness              117564    1.886385   6.515466  -1.791886   -0.188956   \n",
       "Skewness_DMSNR_Curve  117564   93.881076  79.962110  -1.976976   49.409136   \n",
       "\n",
       "                             50%         75%          max   dtypes  unique  \\\n",
       "Class                   0.000000    0.000000     1.000000    int64       2   \n",
       "EK                      0.186498    0.395620     7.879628  float64   37132   \n",
       "EK_DMSNR_Curve          8.442883   10.003237    34.539844  float64   42870   \n",
       "Mean_DMSNR_Curve        2.808528    4.122910   217.371238  float64   12474   \n",
       "Mean_Integrated       116.664062  126.296875   189.367188  float64   11065   \n",
       "SD                     47.478932   50.862718    93.602933  float64   49262   \n",
       "SD_DMSNR_Curve         18.164924   24.732218   109.890785  float64   48050   \n",
       "Skewness                0.091720    0.691613    65.385974  float64   41366   \n",
       "Skewness_DMSNR_Curve   83.421375  122.093290  1191.000837  float64   50648   \n",
       "\n",
       "                     missing_count missing_ratio raw_type special_types  \n",
       "Class                                                 int                \n",
       "EK                                                  float                \n",
       "EK_DMSNR_Curve                                      float                \n",
       "Mean_DMSNR_Curve                                    float                \n",
       "Mean_Integrated                                     float                \n",
       "SD                                                  float                \n",
       "SD_DMSNR_Curve                                      float                \n",
       "Skewness                                            float                \n",
       "Skewness_DMSNR_Curve                                float                "
      ]
     },
     "metadata": {},
     "output_type": "display_data"
    },
    {
     "data": {
      "text/markdown": [
       "### Feature Distance"
      ],
      "text/plain": [
       "<IPython.core.display.Markdown object>"
      ]
     },
     "metadata": {},
     "output_type": "display_data"
    },
    {
     "data": {
      "image/png": "[encoded data removed]",
      "text/plain": [
       "<Figure size 864x144 with 1 Axes>"
      ]
     },
     "metadata": {
      "needs_background": "light"
     },
     "output_type": "display_data"
    },
    {
     "data": {
      "text/markdown": [
       "**The following feature groups are considered as near-duplicates**:\n",
       "\n",
       "Distance threshold: <= `0.01`. Consider keeping only some of the columns within each group:\n",
       "\n",
       " - `EK_DMSNR_Curve`, `Skewness_DMSNR_Curve` - distance `0.01`"
      ],
      "text/plain": [
       "<IPython.core.display.Markdown object>"
      ]
     },
     "metadata": {},
     "output_type": "display_data"
    },
    {
     "data": {
      "text/markdown": [
       "**Near duplicate group analysis: `EK_DMSNR_Curve`, `Skewness_DMSNR_Curve` - distance `0.0088`**"
      ],
      "text/plain": [
       "<IPython.core.display.Markdown object>"
      ]
     },
     "metadata": {},
     "output_type": "display_data"
    },
    {
     "data": {
      "text/markdown": [
       "Feature interaction between `EK_DMSNR_Curve`/`Skewness_DMSNR_Curve`"
      ],
      "text/plain": [
       "<IPython.core.display.Markdown object>"
      ]
     },
     "metadata": {},
     "output_type": "display_data"
    },
    {
     "data": {
      "image/png": "[encoded data removed]",
      "text/plain": [
       "<Figure size 864x432 with 1 Axes>"
      ]
     },
     "metadata": {
      "needs_background": "light"
     },
     "output_type": "display_data"
    }
   ],
   "source": [
    "auto.dataset_overview(train_data=train_data, label=TARGET)"
   ]
  },
  {
   "cell_type": "code",
   "execution_count": null,
   "id": "53a869b3-b679-4918-bd00-c6cd97713cd3",
   "metadata": {},
   "outputs": [],
   "source": []
  }
 ],
 "metadata": {
  "kernelspec": {
   "display_name": "Python 3 (ipykernel)",
   "language": "python",
   "name": "python3"
  },
  "language_info": {
   "codemirror_mode": {
    "name": "ipython",
    "version": 3
   },
   "file_extension": ".py",
   "mimetype": "text/x-python",
   "name": "python",
   "nbconvert_exporter": "python",
   "pygments_lexer": "ipython3",
   "version": "3.9.0"
  }
 },
 "nbformat": 4,
 "nbformat_minor": 5
}
