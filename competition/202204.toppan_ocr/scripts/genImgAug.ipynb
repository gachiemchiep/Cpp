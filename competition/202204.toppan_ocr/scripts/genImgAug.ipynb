{
 "cells": [
  {
   "cell_type": "code",
   "execution_count": 1,
   "id": "5a0f8a8d",
   "metadata": {},
   "outputs": [
    {
     "name": "stderr",
     "output_type": "stream",
     "text": [
      "/home/jil/opt/miniconda2/envs/ocr-py3/lib/python3.7/site-packages/skimage/morphology/_skeletonize.py:241: DeprecationWarning: `np.bool` is a deprecated alias for the builtin `bool`. To silence this warning, use `bool` by itself. Doing this will not modify any behavior and is safe. If you specifically wanted the numpy scalar type, use `np.bool_` here.\n",
      "Deprecated in NumPy 1.20; for more details and guidance: https://numpy.org/devdocs/release/1.20.0-notes.html#deprecations\n",
      "  0, 1, 1, 0, 0, 1, 0, 0, 0], dtype=np.bool)\n",
      "/home/jil/opt/miniconda2/envs/ocr-py3/lib/python3.7/site-packages/skimage/morphology/_skeletonize.py:256: DeprecationWarning: `np.bool` is a deprecated alias for the builtin `bool`. To silence this warning, use `bool` by itself. Doing this will not modify any behavior and is safe. If you specifically wanted the numpy scalar type, use `np.bool_` here.\n",
      "Deprecated in NumPy 1.20; for more details and guidance: https://numpy.org/devdocs/release/1.20.0-notes.html#deprecations\n",
      "  0, 0, 0, 0, 0, 0, 0, 0, 0], dtype=np.bool)\n"
     ]
    }
   ],
   "source": [
    "\"\"\" a modified version of CRNN torch repository https://github.com/bgshih/crnn/blob/master/tool/create_dataset.py \"\"\"\n",
    "import os\n",
    "import lmdb\n",
    "import cv2\n",
    "import numpy as np\n",
    "from random import shuffle\n",
    "import glob\n",
    "\n",
    "from util import *\n",
    "\n",
    "data_dir = \"/datadrive/workspace/others/202203.toppan_ocr_2/dataset/toppan_ocr_2/train_r90\"\n",
    "train_dirs = []\n",
    "for i in range(0, 43, 1):\n",
    "    train_dir = \"{}/{:03d}\".format(data_dir, i)\n",
    "    train_dirs.append(train_dir)\n",
    "\n",
    "train_imgs_1, train_labels_1 = createTrainValList(train_dirs, val_per=0, fold_cnt=0, isTrain=False)\n",
    "\n"
   ]
  },
  {
   "cell_type": "code",
   "execution_count": 2,
   "id": "ec5a69bd",
   "metadata": {},
   "outputs": [
    {
     "data": {
      "text/plain": [
       "47826"
      ]
     },
     "execution_count": 2,
     "metadata": {},
     "output_type": "execute_result"
    }
   ],
   "source": [
    "len(train_imgs_1)"
   ]
  },
  {
   "cell_type": "code",
   "execution_count": 3,
   "id": "7f27aea6",
   "metadata": {},
   "outputs": [],
   "source": [
    "genImgAug(train_imgs_1, train_labels_1, \"/datadrive/workspace/others/202203.toppan_ocr_2/dataset/toppan_ocr_2/train_r90_aug/008\", checkValid=False, augCnt=1)\n"
   ]
  },
  {
   "cell_type": "code",
   "execution_count": 4,
   "id": "9697dd11",
   "metadata": {},
   "outputs": [],
   "source": [
    "%reset -f"
   ]
  },
  {
   "cell_type": "code",
   "execution_count": null,
   "id": "b862d8ac",
   "metadata": {},
   "outputs": [],
   "source": []
  }
 ],
 "metadata": {
  "kernelspec": {
   "display_name": "Python 3 (ipykernel)",
   "language": "python",
   "name": "python3"
  },
  "language_info": {
   "codemirror_mode": {
    "name": "ipython",
    "version": 3
   },
   "file_extension": ".py",
   "mimetype": "text/x-python",
   "name": "python",
   "nbconvert_exporter": "python",
   "pygments_lexer": "ipython3",
   "version": "3.7.11"
  }
 },
 "nbformat": 4,
 "nbformat_minor": 5
}
