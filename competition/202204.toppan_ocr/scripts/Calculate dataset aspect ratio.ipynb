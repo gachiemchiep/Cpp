{
 "cells": [
  {
   "cell_type": "code",
   "execution_count": 6,
   "id": "651757f8",
   "metadata": {},
   "outputs": [],
   "source": [
    "import glob\n",
    "import cv2\n",
    "import numpy as np"
   ]
  },
  {
   "cell_type": "code",
   "execution_count": 3,
   "id": "6c75723c",
   "metadata": {},
   "outputs": [],
   "source": [
    "in_dir = \"/datadrive/workspace/others/202203.toppan_ocr/dataset/train_r90\""
   ]
  },
  {
   "cell_type": "code",
   "execution_count": 4,
   "id": "887b4182",
   "metadata": {},
   "outputs": [],
   "source": [
    "image_paths = glob.glob(\"{}/*/*.jpg\".format(in_dir))"
   ]
  },
  {
   "cell_type": "code",
   "execution_count": 5,
   "id": "6c32f4d3",
   "metadata": {},
   "outputs": [],
   "source": [
    "ratios = []"
   ]
  },
  {
   "cell_type": "code",
   "execution_count": 7,
   "id": "817aece3",
   "metadata": {},
   "outputs": [],
   "source": [
    "for image_path in image_paths:\n",
    "    \n",
    "    img = cv2.imread(image_path)\n",
    "    h, w, _ = np.shape(img)\n",
    "    ratio = w / h\n",
    "    ratios.append(ratio)"
   ]
  },
  {
   "cell_type": "code",
   "execution_count": 8,
   "id": "990af835",
   "metadata": {},
   "outputs": [
    {
     "data": {
      "text/plain": [
       "20.495495495495497"
      ]
     },
     "execution_count": 8,
     "metadata": {},
     "output_type": "execute_result"
    }
   ],
   "source": [
    "np.percentile(ratios, 80)"
   ]
  },
  {
   "cell_type": "code",
   "execution_count": 15,
   "id": "8b3a2cfc",
   "metadata": {},
   "outputs": [
    {
     "data": {
      "text/plain": [
       "19.523076923076925"
      ]
     },
     "execution_count": 15,
     "metadata": {},
     "output_type": "execute_result"
    }
   ],
   "source": [
    "np.percentile(ratios, 70)"
   ]
  },
  {
   "cell_type": "code",
   "execution_count": 11,
   "id": "2648ea99",
   "metadata": {},
   "outputs": [
    {
     "data": {
      "text/plain": [
       "5.800000000000001"
      ]
     },
     "execution_count": 11,
     "metadata": {},
     "output_type": "execute_result"
    }
   ],
   "source": [
    "a = [1, 2, 3, 4, 5, 6, 7]\n",
    "np.percentile(a, 80)"
   ]
  },
  {
   "cell_type": "code",
   "execution_count": 12,
   "id": "0cd90785",
   "metadata": {},
   "outputs": [
    {
     "data": {
      "text/plain": [
       "54.74418604651163"
      ]
     },
     "execution_count": 12,
     "metadata": {},
     "output_type": "execute_result"
    }
   ],
   "source": [
    "max(ratios)"
   ]
  },
  {
   "cell_type": "code",
   "execution_count": null,
   "id": "793f900f",
   "metadata": {},
   "outputs": [],
   "source": []
  }
 ],
 "metadata": {
  "kernelspec": {
   "display_name": "Python 3 (ipykernel)",
   "language": "python",
   "name": "python3"
  },
  "language_info": {
   "codemirror_mode": {
    "name": "ipython",
    "version": 3
   },
   "file_extension": ".py",
   "mimetype": "text/x-python",
   "name": "python",
   "nbconvert_exporter": "python",
   "pygments_lexer": "ipython3",
   "version": "3.8.0"
  }
 },
 "nbformat": 4,
 "nbformat_minor": 5
}
