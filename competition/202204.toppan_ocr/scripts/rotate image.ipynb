{
 "cells": [
  {
   "cell_type": "code",
   "execution_count": 1,
   "id": "55ab9b5d",
   "metadata": {},
   "outputs": [],
   "source": [
    "import os\n",
    "import cv2\n",
    "import glob\n",
    "import shutil"
   ]
  },
  {
   "cell_type": "code",
   "execution_count": 2,
   "id": "76fe3344",
   "metadata": {},
   "outputs": [],
   "source": [
    "in_dir = \"/datadrive/workspace/others/202203.toppan_ocr/dataset/train\"\n",
    "out_dir = \"/datadrive/workspace/others/202203.toppan_ocr/dataset/train_r90\""
   ]
  },
  {
   "cell_type": "code",
   "execution_count": 3,
   "id": "bd36ca9d",
   "metadata": {},
   "outputs": [
    {
     "ename": "FileExistsError",
     "evalue": "[Errno 17] File exists: '/datadrive/workspace/others/202203.toppan_ocr/dataset/train_r90'",
     "output_type": "error",
     "traceback": [
      "\u001b[0;31m---------------------------------------------------------------------------\u001b[0m",
      "\u001b[0;31mFileExistsError\u001b[0m                           Traceback (most recent call last)",
      "\u001b[0;32m/tmp/ipykernel_133151/399989150.py\u001b[0m in \u001b[0;36m<module>\u001b[0;34m\u001b[0m\n\u001b[0;32m----> 1\u001b[0;31m \u001b[0mos\u001b[0m\u001b[0;34m.\u001b[0m\u001b[0mmakedirs\u001b[0m\u001b[0;34m(\u001b[0m\u001b[0mout_dir\u001b[0m\u001b[0;34m)\u001b[0m\u001b[0;34m\u001b[0m\u001b[0;34m\u001b[0m\u001b[0m\n\u001b[0m",
      "\u001b[0;32m~/opt/miniconda2/envs/ocr-py3/lib/python3.7/os.py\u001b[0m in \u001b[0;36mmakedirs\u001b[0;34m(name, mode, exist_ok)\u001b[0m\n\u001b[1;32m    221\u001b[0m             \u001b[0;32mreturn\u001b[0m\u001b[0;34m\u001b[0m\u001b[0;34m\u001b[0m\u001b[0m\n\u001b[1;32m    222\u001b[0m     \u001b[0;32mtry\u001b[0m\u001b[0;34m:\u001b[0m\u001b[0;34m\u001b[0m\u001b[0;34m\u001b[0m\u001b[0m\n\u001b[0;32m--> 223\u001b[0;31m         \u001b[0mmkdir\u001b[0m\u001b[0;34m(\u001b[0m\u001b[0mname\u001b[0m\u001b[0;34m,\u001b[0m \u001b[0mmode\u001b[0m\u001b[0;34m)\u001b[0m\u001b[0;34m\u001b[0m\u001b[0;34m\u001b[0m\u001b[0m\n\u001b[0m\u001b[1;32m    224\u001b[0m     \u001b[0;32mexcept\u001b[0m \u001b[0mOSError\u001b[0m\u001b[0;34m:\u001b[0m\u001b[0;34m\u001b[0m\u001b[0;34m\u001b[0m\u001b[0m\n\u001b[1;32m    225\u001b[0m         \u001b[0;31m# Cannot rely on checking for EEXIST, since the operating system\u001b[0m\u001b[0;34m\u001b[0m\u001b[0;34m\u001b[0m\u001b[0;34m\u001b[0m\u001b[0m\n",
      "\u001b[0;31mFileExistsError\u001b[0m: [Errno 17] File exists: '/datadrive/workspace/others/202203.toppan_ocr/dataset/train_r90'"
     ]
    }
   ],
   "source": [
    "os.makedirs(out_dir)"
   ]
  },
  {
   "cell_type": "code",
   "execution_count": 4,
   "id": "3fed493b",
   "metadata": {},
   "outputs": [],
   "source": [
    "for sub_dir in os.listdir(in_dir):\n",
    "    \n",
    "    out_sub_dir = \"{}/{}\".format(out_dir, sub_dir)\n",
    "    if not os.path.exists(out_sub_dir):\n",
    "        os.makedirs(out_sub_dir)\n",
    "    \n",
    "    \n",
    "    img_paths = glob.glob(\"{}/{}/*.jpg\".format(in_dir, sub_dir))\n",
    "    \n",
    "    for img_path in img_paths:\n",
    "        \n",
    "        img = cv2.imread(img_path)\n",
    "\n",
    "        img = cv2.transpose(img)\n",
    "        img = cv2.flip(img, 0)\n",
    "\n",
    "        out_path = img_path.replace(\"train\", \"train_r90\")\n",
    "        \n",
    "        cv2.imwrite(out_path, img)\n",
    "        \n",
    "\n",
    "    txt_paths = glob.glob(\"{}/{}/*.txt\".format(in_dir, sub_dir))\n",
    "    for txt_path in txt_paths:\n",
    "        shutil.copy2(txt_path, out_sub_dir)"
   ]
  },
  {
   "cell_type": "code",
   "execution_count": null,
   "id": "c2eb05b5",
   "metadata": {},
   "outputs": [],
   "source": []
  }
 ],
 "metadata": {
  "kernelspec": {
   "display_name": "Python 3 (ipykernel)",
   "language": "python",
   "name": "python3"
  },
  "language_info": {
   "codemirror_mode": {
    "name": "ipython",
    "version": 3
   },
   "file_extension": ".py",
   "mimetype": "text/x-python",
   "name": "python",
   "nbconvert_exporter": "python",
   "pygments_lexer": "ipython3",
   "version": "3.7.11"
  }
 },
 "nbformat": 4,
 "nbformat_minor": 5
}
