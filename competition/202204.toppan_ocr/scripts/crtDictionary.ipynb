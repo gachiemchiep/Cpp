{
 "cells": [
  {
   "cell_type": "code",
   "execution_count": 1,
   "id": "3d40f6f7",
   "metadata": {},
   "outputs": [],
   "source": [
    "import glob"
   ]
  },
  {
   "cell_type": "markdown",
   "id": "2fac05a5",
   "metadata": {},
   "source": [
    "https://qiita.com/ny7760/items/d9c247781a790210936d"
   ]
  },
  {
   "cell_type": "code",
   "execution_count": 2,
   "id": "fb8bfe55",
   "metadata": {},
   "outputs": [
    {
     "data": {
      "text/plain": [
       "'0x4c61'"
      ]
     },
     "execution_count": 2,
     "metadata": {},
     "output_type": "execute_result"
    }
   ],
   "source": [
    "hex(ord(\"䱡\"))"
   ]
  },
  {
   "cell_type": "code",
   "execution_count": 3,
   "id": "28d60c76",
   "metadata": {},
   "outputs": [
    {
     "name": "stdout",
     "output_type": "stream",
     "text": [
      "䱡\n"
     ]
    }
   ],
   "source": [
    "dir_name = \"U+4C61\"\n",
    "dir_name_kanji = chr(int(dir_name.replace(\"U+\", \"\"), 16))\n",
    "print(dir_name_kanji)"
   ]
  },
  {
   "cell_type": "code",
   "execution_count": 4,
   "id": "9fb0a405",
   "metadata": {},
   "outputs": [],
   "source": [
    "japan_dict_path = \"/datadrive/workspace/others/202203.toppan_ocr/sample_submit/train/configs/rec/japan_dict.txt\"\n",
    "japan_dict_chars = []\n",
    "with open(japan_dict_path, \"r\") as fid:\n",
    "    lines = fid.readlines()\n",
    "    \n",
    "for line in lines:\n",
    "    char = line.rstrip()\n",
    "    japan_dict_chars.append(char)\n",
    "    \n",
    "    "
   ]
  },
  {
   "cell_type": "code",
   "execution_count": 5,
   "id": "18d5895f",
   "metadata": {},
   "outputs": [],
   "source": [
    "kaggle_data = \"/datadrive/workspace/others/202203.toppan_ocr/dataset/kuzushiji-recognition\"\n",
    "kaggle_label = \"{}/lines_label_train.txt\".format(kaggle_data)\n",
    "\n",
    "with open(kaggle_label, \"r\") as fid:\n",
    "    lines = fid.readlines()\n",
    "\n",
    "kaggle_texts = []\n",
    "for line in lines:\n",
    "    _, text = line.rstrip().split(\" \")\n",
    "    kaggle_texts.append(text)\n",
    "    \n",
    "kaggle_all_text = \"\".join(kaggle_texts)\n",
    "kaggle_all_chars = set(kaggle_all_text)"
   ]
  },
  {
   "cell_type": "code",
   "execution_count": 6,
   "id": "fbe4115e",
   "metadata": {},
   "outputs": [],
   "source": [
    "toppan_ocr_dir = \"/datadrive/workspace/others/202203.toppan_ocr_2/dataset/toppan_ocr_2/train_r90\"\n",
    "txt_paths = glob.glob(\"{}/*/*.txt\".format(toppan_ocr_dir))\n",
    "toppan_texts = []\n",
    "for txt_path in txt_paths:\n",
    "    with open(txt_path, \"r\") as fid:\n",
    "        text = fid.readline().rstrip()\n",
    "        toppan_texts.append(text)\n",
    "        \n",
    "toppan_all_text = \"\".join(toppan_texts)\n",
    "toppan_all_chars = set(toppan_all_text)"
   ]
  },
  {
   "cell_type": "code",
   "execution_count": 7,
   "id": "07753c54",
   "metadata": {},
   "outputs": [],
   "source": [
    "all_chars = set(list(kaggle_all_chars) + list(toppan_all_chars) + japan_dict_chars)\n",
    "all_chars_sorted = sorted(all_chars)"
   ]
  },
  {
   "cell_type": "code",
   "execution_count": 4,
   "id": "0d0653b9",
   "metadata": {},
   "outputs": [],
   "source": [
    "all_chars = set(list(toppan_all_chars))\n",
    "all_chars_sorted = sorted(all_chars)"
   ]
  },
  {
   "cell_type": "code",
   "execution_count": 5,
   "id": "383843ad",
   "metadata": {},
   "outputs": [
    {
     "data": {
      "text/plain": [
       "4238"
      ]
     },
     "execution_count": 5,
     "metadata": {},
     "output_type": "execute_result"
    }
   ],
   "source": [
    "len(all_chars_sorted)"
   ]
  },
  {
   "cell_type": "code",
   "execution_count": 10,
   "id": "bcf81c36",
   "metadata": {},
   "outputs": [
    {
     "data": {
      "text/plain": [
       "'0x29'"
      ]
     },
     "execution_count": 10,
     "metadata": {},
     "output_type": "execute_result"
    }
   ],
   "source": [
    "hex(ord( all_chars_sorted[9] ))"
   ]
  },
  {
   "cell_type": "code",
   "execution_count": 7,
   "id": "0d347ef5",
   "metadata": {},
   "outputs": [
    {
     "ename": "NameError",
     "evalue": "name 'japan_dict_chars' is not defined",
     "output_type": "error",
     "traceback": [
      "\u001b[0;31m---------------------------------------------------------------------------\u001b[0m",
      "\u001b[0;31mNameError\u001b[0m                                 Traceback (most recent call last)",
      "\u001b[0;32m/tmp/ipykernel_162757/2771932383.py\u001b[0m in \u001b[0;36m<module>\u001b[0;34m\u001b[0m\n\u001b[0;32m----> 1\u001b[0;31m \u001b[0mlen\u001b[0m\u001b[0;34m(\u001b[0m\u001b[0mjapan_dict_chars\u001b[0m\u001b[0;34m)\u001b[0m\u001b[0;34m\u001b[0m\u001b[0;34m\u001b[0m\u001b[0m\n\u001b[0m",
      "\u001b[0;31mNameError\u001b[0m: name 'japan_dict_chars' is not defined"
     ]
    }
   ],
   "source": [
    "len(japan_dict_chars)"
   ]
  },
  {
   "cell_type": "code",
   "execution_count": 6,
   "id": "f8a25f29",
   "metadata": {},
   "outputs": [],
   "source": [
    "toppan_ocr_dict_path = \"/datadrive/workspace/others/202203.toppan_ocr/sample_submit/train/configs/rec/toppan_dict.txt\"\n",
    "with open(toppan_ocr_dict_path, \"w\") as fid:\n",
    "    for char in all_chars_sorted:\n",
    "        fid.write(\"{}\\n\".format(char))\n",
    "    fid.write(\" \\n\")\n",
    "    fid.write(\"\\n\")"
   ]
  },
  {
   "cell_type": "code",
   "execution_count": 14,
   "id": "826d7e64",
   "metadata": {},
   "outputs": [],
   "source": [
    "japan_dict_path = \"/datadrive/workspace/others/202203.toppan_ocr_2/benchmarking-chinese-text-recognition/model/data/japan_dict.txt\"\n",
    "\n",
    "with open(japan_dict_path, \"r\") as fid:\n",
    "    all_lines = fid.readlines()\n",
    "    \n",
    "japan_all_chars = []\n",
    "for line in all_lines:\n",
    "    japan_all_chars.append(line.rstrip()) # last line is space. so this will remove last line\n",
    "    \n",
    "all_chars = []\n",
    "for char in japan_all_chars[:-1]:\n",
    "    all_chars.append(char)\n",
    "\n",
    "for toppan_char in toppan_all_chars:\n",
    "    if toppan_char not in japan_all_chars:\n",
    "        all_chars.append(toppan_char)\n",
    "        "
   ]
  },
  {
   "cell_type": "code",
   "execution_count": 15,
   "id": "e059b616",
   "metadata": {},
   "outputs": [],
   "source": [
    "# write in paddle ocr format\n",
    "paddle_ocr_format_path = \"/datadrive/workspace/others/202203.toppan_ocr_2/benchmarking-chinese-text-recognition/model/data/toppan_dict.txt\"\n",
    "with open(paddle_ocr_format_path, \"w+\") as fid:\n",
    "    for char in all_chars:\n",
    "        fid.write(\"{}\\n\".format(char))\n",
    "    fid.write(\" \\n\")\n",
    "# write in benchmarking-chinese-text-recognition format\n",
    "tranocr_format_path = \"/datadrive/workspace/others/202203.toppan_ocr_2/benchmarking-chinese-text-recognition/model/data/toppan_dict_tranocr.txt\"\n",
    "new_line = \"\".join(all_chars)\n",
    "with open(tranocr_format_path, \"w+\") as fid:\n",
    "    fid.write(\"{}\\n\".format(new_line))"
   ]
  },
  {
   "cell_type": "code",
   "execution_count": null,
   "id": "fa9e2f1b",
   "metadata": {},
   "outputs": [],
   "source": []
  }
 ],
 "metadata": {
  "kernelspec": {
   "display_name": "Python 3 (ipykernel)",
   "language": "python",
   "name": "python3"
  },
  "language_info": {
   "codemirror_mode": {
    "name": "ipython",
    "version": 3
   },
   "file_extension": ".py",
   "mimetype": "text/x-python",
   "name": "python",
   "nbconvert_exporter": "python",
   "pygments_lexer": "ipython3",
   "version": "3.7.11"
  }
 },
 "nbformat": 4,
 "nbformat_minor": 5
}
