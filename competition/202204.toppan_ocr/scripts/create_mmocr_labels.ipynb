{
 "cells": [
  {
   "cell_type": "code",
   "execution_count": 2,
   "id": "6c367b20",
   "metadata": {},
   "outputs": [],
   "source": [
    "import os\n",
    "import lmdb\n",
    "import cv2\n",
    "import numpy as np\n",
    "from random import shuffle\n",
    "import glob"
   ]
  },
  {
   "cell_type": "code",
   "execution_count": 3,
   "id": "5fbb95bc",
   "metadata": {},
   "outputs": [],
   "source": [
    "from util import *"
   ]
  },
  {
   "cell_type": "code",
   "execution_count": 5,
   "id": "cb97d7b7",
   "metadata": {},
   "outputs": [
    {
     "name": "stderr",
     "output_type": "stream",
     "text": [
      "100%|██████████████████████████████████████████████████████████████████████████████████████████████████████████████████████████████████████| 1660470/1660470 [1:43:58<00:00, 266.15it/s]\n"
     ]
    }
   ],
   "source": [
    "data_dir = \"/datadrive/workspace/others/202203.toppan_ocr_2/dataset/toppan_ocr_2/train_r90_aug\"\n",
    "train_dirs = glob.glob(\"{}/*\".format(data_dir))\n",
    "train_dirs = train_dirs[:-3]\n",
    "# train_dirs\n",
    "train_imgs_1, train_labels_1 = createTrainValList2(train_dirs, val_per=0, fold_cnt=0, isTrain=True)"
   ]
  },
  {
   "cell_type": "code",
   "execution_count": 10,
   "id": "1dd8ca29",
   "metadata": {},
   "outputs": [
    {
     "data": {
      "text/plain": [
       "'train_r90_aug/001/0000000.jpg'"
      ]
     },
     "execution_count": 10,
     "metadata": {},
     "output_type": "execute_result"
    }
   ],
   "source": [
    "train_imgs_1[0][69:]"
   ]
  },
  {
   "cell_type": "code",
   "execution_count": 12,
   "id": "6b1d1935",
   "metadata": {},
   "outputs": [],
   "source": [
    "with open(\"/datadrive/workspace/others/202203.toppan_ocr_2/dataset/toppan_ocr_2/instances_train.txt\", \"w\") as fid:\n",
    "    for train_img, train_label in zip(train_imgs_1, train_labels_1):\n",
    "        fid.write(\"{} {}\\n\".format(train_img[69:], train_label))"
   ]
  },
  {
   "cell_type": "code",
   "execution_count": 13,
   "id": "685e0e2c",
   "metadata": {},
   "outputs": [
    {
     "name": "stderr",
     "output_type": "stream",
     "text": [
      "100%|███████████████████████████████████████████████████████████████████████████████████████████████████████████████████████████████████████████| 48048/48048 [00:20<00:00, 2335.88it/s]\n"
     ]
    }
   ],
   "source": [
    "data_dir = \"/datadrive/workspace/others/202203.toppan_ocr_2/dataset/toppan_ocr_2/train_r90\"\n",
    "test_dirs = glob.glob(\"{}/*\".format(data_dir))\n",
    "test_dirs = test_dirs[:]\n",
    "test_imgs_1, test_labels_1 = createTrainValList2(test_dirs, val_per=0, fold_cnt=0, isTrain=True)"
   ]
  },
  {
   "cell_type": "code",
   "execution_count": 17,
   "id": "c7328371",
   "metadata": {},
   "outputs": [],
   "source": [
    "with open(\"/datadrive/workspace/others/202203.toppan_ocr_2/dataset/toppan_ocr_2/instances_test.txt\", \"w\") as fid:\n",
    "    for test_img, test_label in zip(test_imgs_1, test_labels_1):\n",
    "        fid.write(\"{} {}\\n\".format(test_img[69:], test_label))"
   ]
  },
  {
   "cell_type": "code",
   "execution_count": 16,
   "id": "784507a8",
   "metadata": {},
   "outputs": [
    {
     "data": {
      "text/plain": [
       "'/datadrive/workspace/others/202203.toppan_ocr_2/dataset/toppan_ocr_2/train_r90/000/000000.jpg'"
      ]
     },
     "execution_count": 16,
     "metadata": {},
     "output_type": "execute_result"
    }
   ],
   "source": [
    "test_imgs_1[0]"
   ]
  },
  {
   "cell_type": "code",
   "execution_count": null,
   "id": "ebf206a3",
   "metadata": {},
   "outputs": [],
   "source": []
  }
 ],
 "metadata": {
  "kernelspec": {
   "display_name": "Python 3 (ipykernel)",
   "language": "python",
   "name": "python3"
  },
  "language_info": {
   "codemirror_mode": {
    "name": "ipython",
    "version": 3
   },
   "file_extension": ".py",
   "mimetype": "text/x-python",
   "name": "python",
   "nbconvert_exporter": "python",
   "pygments_lexer": "ipython3",
   "version": "3.8.0"
  }
 },
 "nbformat": 4,
 "nbformat_minor": 5
}
