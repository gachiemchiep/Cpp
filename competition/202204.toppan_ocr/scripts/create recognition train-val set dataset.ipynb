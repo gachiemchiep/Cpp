{
 "cells": [
  {
   "cell_type": "code",
   "execution_count": 1,
   "id": "0e601aa0",
   "metadata": {},
   "outputs": [],
   "source": [
    "\"\"\" a modified version of CRNN torch repository https://github.com/bgshih/crnn/blob/master/tool/create_dataset.py \"\"\"\n",
    "import os\n",
    "import lmdb\n",
    "import cv2\n",
    "import numpy as np\n",
    "from random import shuffle\n",
    "import glob"
   ]
  },
  {
   "cell_type": "code",
   "execution_count": 2,
   "id": "c56c2f50",
   "metadata": {},
   "outputs": [
    {
     "name": "stderr",
     "output_type": "stream",
     "text": [
      "/home/jil/opt/miniconda2/envs/ocr-py3/lib/python3.7/site-packages/skimage/morphology/_skeletonize.py:241: DeprecationWarning: `np.bool` is a deprecated alias for the builtin `bool`. To silence this warning, use `bool` by itself. Doing this will not modify any behavior and is safe. If you specifically wanted the numpy scalar type, use `np.bool_` here.\n",
      "Deprecated in NumPy 1.20; for more details and guidance: https://numpy.org/devdocs/release/1.20.0-notes.html#deprecations\n",
      "  0, 1, 1, 0, 0, 1, 0, 0, 0], dtype=np.bool)\n",
      "/home/jil/opt/miniconda2/envs/ocr-py3/lib/python3.7/site-packages/skimage/morphology/_skeletonize.py:256: DeprecationWarning: `np.bool` is a deprecated alias for the builtin `bool`. To silence this warning, use `bool` by itself. Doing this will not modify any behavior and is safe. If you specifically wanted the numpy scalar type, use `np.bool_` here.\n",
      "Deprecated in NumPy 1.20; for more details and guidance: https://numpy.org/devdocs/release/1.20.0-notes.html#deprecations\n",
      "  0, 0, 0, 0, 0, 0, 0, 0, 0], dtype=np.bool)\n"
     ]
    }
   ],
   "source": [
    "from util import *"
   ]
  },
  {
   "cell_type": "markdown",
   "id": "dd1eba1f",
   "metadata": {},
   "source": [
    "## Create train set\n",
    "source https://github.com/clovaai/deep-text-recognition-benchmark"
   ]
  },
  {
   "cell_type": "markdown",
   "id": "27d46a5e",
   "metadata": {},
   "source": [
    "# kaggle + part1~4 for train\n",
    "\n",
    "https://signate.jp/competitions/580/discussions/20220404205304-22761?comment_id=5144#5144\n",
    "\n",
    "-------------------> kaggleのデータセット利用不可能\n",
    "\n"
   ]
  },
  {
   "cell_type": "code",
   "execution_count": null,
   "id": "59088970",
   "metadata": {},
   "outputs": [],
   "source": [
    "data_dir = \"/datadrive/workspace/others/202203.toppan_ocr_2/dataset/toppan_ocr_2/train_r90\"\n",
    "train_dirs = []\n",
    "for i in range(0, 43, 1):\n",
    "    train_dir = \"{}/{:03d}\".format(data_dir, i)\n",
    "    train_dirs.append(train_dir)\n",
    "\n",
    "train_imgs_1, train_labels_1 = createTrainValList(train_dirs, val_per=0, fold_cnt=0, isTrain=False)"
   ]
  },
  {
   "cell_type": "code",
   "execution_count": null,
   "id": "549ee271",
   "metadata": {},
   "outputs": [],
   "source": [
    "TRAIN_LMDB = \"/datadrive/workspace/others/202203.toppan_ocr_2/lmdb/val_01_05\"\n",
    "createDataset(train_imgs_1, train_labels_1, TRAIN_LMDB, checkValid=True)"
   ]
  },
  {
   "cell_type": "markdown",
   "id": "c9276f6e",
   "metadata": {},
   "source": [
    "## augmentated data for training"
   ]
  },
  {
   "cell_type": "code",
   "execution_count": 3,
   "id": "1466fa50",
   "metadata": {},
   "outputs": [
    {
     "name": "stderr",
     "output_type": "stream",
     "text": [
      "100%|█████████████████████████████████████████████████████████████████████████████████████████████████████████████████████████████████████████████████████████████████████████████████████████████████████████| 1840516/1840516 [1:14:19<00:00, 412.67it/s]\n"
     ]
    }
   ],
   "source": [
    "data_dir = \"/datadrive/workspace/others/202203.toppan_ocr_2/dataset/toppan_ocr_2/train_r90_aug\"\n",
    "train_dirs = glob.glob(\"{}/*\".format(data_dir))\n",
    "sorted(train_dirs)\n",
    "train_dirs = train_dirs[:]\n",
    "train_imgs_2, train_labels_2 = createTrainValList2(train_dirs, val_per=0, fold_cnt=0, isTrain=True)"
   ]
  },
  {
   "cell_type": "code",
   "execution_count": 4,
   "id": "4f3e2c8a",
   "metadata": {},
   "outputs": [
    {
     "name": "stdout",
     "output_type": "stream",
     "text": [
      "Written 20000 / 1840516\n",
      "Written 40000 / 1840516\n",
      "Written 60000 / 1840516\n",
      "Written 80000 / 1840516\n",
      "Written 100000 / 1840516\n",
      "Written 120000 / 1840516\n",
      "Written 140000 / 1840516\n",
      "Written 160000 / 1840516\n",
      "Written 180000 / 1840516\n",
      "Written 200000 / 1840516\n",
      "Written 220000 / 1840516\n",
      "Written 240000 / 1840516\n",
      "Written 260000 / 1840516\n",
      "Written 280000 / 1840516\n",
      "Written 300000 / 1840516\n",
      "Written 320000 / 1840516\n",
      "Written 340000 / 1840516\n",
      "Written 360000 / 1840516\n",
      "Written 380000 / 1840516\n",
      "Written 400000 / 1840516\n",
      "Written 420000 / 1840516\n",
      "Written 440000 / 1840516\n",
      "Written 460000 / 1840516\n",
      "Written 480000 / 1840516\n",
      "Written 500000 / 1840516\n",
      "Written 520000 / 1840516\n",
      "Written 540000 / 1840516\n",
      "Written 560000 / 1840516\n",
      "Written 580000 / 1840516\n",
      "Written 600000 / 1840516\n",
      "Written 620000 / 1840516\n",
      "Written 640000 / 1840516\n",
      "Written 660000 / 1840516\n",
      "Written 680000 / 1840516\n",
      "Written 700000 / 1840516\n",
      "Written 720000 / 1840516\n",
      "Written 740000 / 1840516\n",
      "Written 760000 / 1840516\n",
      "Written 780000 / 1840516\n",
      "Written 800000 / 1840516\n",
      "Written 820000 / 1840516\n",
      "Written 840000 / 1840516\n",
      "Written 860000 / 1840516\n",
      "Written 880000 / 1840516\n",
      "Written 900000 / 1840516\n",
      "Written 920000 / 1840516\n",
      "Written 940000 / 1840516\n",
      "Written 960000 / 1840516\n",
      "Written 980000 / 1840516\n",
      "Written 1000000 / 1840516\n",
      "Written 1020000 / 1840516\n",
      "Written 1040000 / 1840516\n",
      "Written 1060000 / 1840516\n",
      "Written 1080000 / 1840516\n",
      "Written 1100000 / 1840516\n",
      "Written 1120000 / 1840516\n",
      "Written 1140000 / 1840516\n",
      "Written 1160000 / 1840516\n",
      "Written 1180000 / 1840516\n",
      "Written 1200000 / 1840516\n",
      "Written 1220000 / 1840516\n",
      "Written 1240000 / 1840516\n",
      "Written 1260000 / 1840516\n",
      "Written 1280000 / 1840516\n",
      "Written 1300000 / 1840516\n",
      "Written 1320000 / 1840516\n",
      "Written 1340000 / 1840516\n",
      "Written 1360000 / 1840516\n",
      "Written 1380000 / 1840516\n",
      "Written 1400000 / 1840516\n",
      "Written 1420000 / 1840516\n",
      "Written 1440000 / 1840516\n",
      "Written 1460000 / 1840516\n",
      "Written 1480000 / 1840516\n",
      "Written 1500000 / 1840516\n",
      "Written 1520000 / 1840516\n",
      "Written 1540000 / 1840516\n",
      "Written 1560000 / 1840516\n",
      "Written 1580000 / 1840516\n",
      "Written 1600000 / 1840516\n",
      "Written 1620000 / 1840516\n",
      "Written 1640000 / 1840516\n",
      "Written 1660000 / 1840516\n",
      "Written 1680000 / 1840516\n",
      "Written 1700000 / 1840516\n",
      "Written 1720000 / 1840516\n",
      "Written 1740000 / 1840516\n",
      "Written 1760000 / 1840516\n",
      "Written 1780000 / 1840516\n",
      "Written 1800000 / 1840516\n",
      "Written 1820000 / 1840516\n",
      "Written 1840000 / 1840516\n",
      "Created dataset with 1840516 samples\n"
     ]
    }
   ],
   "source": [
    "TRAIN_LMDB = \"/datadrive/workspace/others/202203.toppan_ocr_2/lmdb/train_01_05_aug\"\n",
    "createDataset(train_imgs_2, train_labels_2, TRAIN_LMDB, checkValid=False)"
   ]
  },
  {
   "cell_type": "code",
   "execution_count": null,
   "id": "b75110ec",
   "metadata": {},
   "outputs": [],
   "source": [
    "# this is non-sense don't do this\n",
    "TRAIN_LMDB = \"/datadrive/workspace/others/202203.toppan_ocr_2/lmdb/train_01_05_with_aug\"\n",
    "createDataset(train_imgs_1+train_imgs_2, train_labels_1+train_labels_2, TRAIN_LMDB, checkValid=False)"
   ]
  },
  {
   "cell_type": "code",
   "execution_count": null,
   "id": "28bef499",
   "metadata": {},
   "outputs": [],
   "source": [
    "train_dirs[:-10]"
   ]
  },
  {
   "cell_type": "code",
   "execution_count": null,
   "id": "91e63266",
   "metadata": {},
   "outputs": [],
   "source": []
  }
 ],
 "metadata": {
  "kernelspec": {
   "display_name": "Python 3 (ipykernel)",
   "language": "python",
   "name": "python3"
  },
  "language_info": {
   "codemirror_mode": {
    "name": "ipython",
    "version": 3
   },
   "file_extension": ".py",
   "mimetype": "text/x-python",
   "name": "python",
   "nbconvert_exporter": "python",
   "pygments_lexer": "ipython3",
   "version": "3.7.11"
  }
 },
 "nbformat": 4,
 "nbformat_minor": 5
}
