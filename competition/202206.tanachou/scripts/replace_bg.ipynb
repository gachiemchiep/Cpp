{
 "cells": [
  {
   "cell_type": "code",
   "execution_count": null,
   "id": "251e1203",
   "metadata": {},
   "outputs": [],
   "source": [
    "import cv2\n",
    "import os\n",
    "import matplotlib.pyplot as plt\n",
    "%matplotlib inline\n",
    "from PIL import Image\n",
    "import numpy as np\n",
    "import random\n",
    "from multiprocessing import Pool\n",
    "from tqdm import tqdm\n",
    "from itertools import product"
   ]
  },
  {
   "cell_type": "code",
   "execution_count": null,
   "id": "3f56bab2",
   "metadata": {},
   "outputs": [],
   "source": [
    "\n",
    "IN_DIR = \"/datadrive/workspace/others/202206.tanachou/data/train_no_bg\"\n",
    "OUT_DIR = \"/datadrive/workspace/others/202206.tanachou/data/train_aug\"\n",
    "BG_DIR = \"/datadrive/workspace/others/202206.tanachou/data/BG-20k\"\n",
    "AUG_CNT = 100\n"
   ]
  },
  {
   "cell_type": "code",
   "execution_count": null,
   "id": "0ba8e667",
   "metadata": {},
   "outputs": [],
   "source": [
    "def aug_img(img_path, bg_path, out_path):\n",
    "    \n",
    "    img = Image.open(img_path)\n",
    "    img_w, img_h = img.size\n",
    "\n",
    "    resize_ratio = 512 / int(max(img_w, img_h))\n",
    "    new_img_w = int(img_w * resize_ratio)\n",
    "    new_img_h = int(img_h * resize_ratio)\n",
    "\n",
    "    img_rz = img.resize([new_img_w, new_img_h])\n",
    "\n",
    "    # rotate angle\n",
    "    angle = random.randint(0, 360)    \n",
    "    img_rz = img_rz.rotate(angle, expand=1)\n",
    "    \n",
    "    # translate position\n",
    "    pos_x = random.randint(0, int(img_rz.size[0] * 0.2))\n",
    "    pos_y = random.randint(0, int(img_rz.size[1] * 0.2))\n",
    "    \n",
    "    # background\n",
    "    background = Image.open(bg_path).resize(img_rz.size)\n",
    "    background.paste(img_rz, (pos_x, pos_y),  mask=img_rz.convert('RGBA'))\n",
    "    \n",
    "    background.save(out_path)"
   ]
  },
  {
   "cell_type": "code",
   "execution_count": null,
   "id": "af4c1140",
   "metadata": {},
   "outputs": [],
   "source": [
    "bg_paths = [\"{}/{}\".format(BG_DIR, bg_file) for bg_file in os.listdir(BG_DIR)]\n"
   ]
  },
  {
   "cell_type": "code",
   "execution_count": null,
   "id": "9fb30d76",
   "metadata": {},
   "outputs": [],
   "source": [
    "total_img_paths = []\n",
    "total_bg_paths = []\n",
    "total_output_paths = []\n",
    "\n",
    "for type_name in os.listdir(IN_DIR):\n",
    "    in_dir = \"{}/{}\".format(IN_DIR, type_name)\n",
    "    out_dir = \"{}/{}\".format(OUT_DIR, type_name)\n",
    "    if not os.path.exists(out_dir):\n",
    "        os.makedirs(out_dir)\n",
    "        \n",
    "    for img_name in os.listdir(in_dir):\n",
    "        img_path = \"{}/{}\".format(in_dir, img_name)\n",
    "        \n",
    "        img_paths = [img_path] * AUG_CNT\n",
    "        bg_paths = random.sample(bg_paths, AUG_CNT)\n",
    "        output_paths = []\n",
    "        name, ext = os.path.splitext(img_name)\n",
    "        for index in range(AUG_CNT):\n",
    "            output_path = \"{}/{}_{:03d}.jpg\".format(out_dir, name, index)\n",
    "            output_paths.append(output_path)\n",
    "        \n",
    "        \n",
    "        total_img_paths += img_paths\n",
    "        total_bg_paths += bg_paths\n",
    "        total_output_paths += output_paths"
   ]
  },
  {
   "cell_type": "code",
   "execution_count": null,
   "id": "351193a2",
   "metadata": {},
   "outputs": [],
   "source": [
    "with Pool(15) as pool:\n",
    "    tqdm(pool.starmap(aug_img, zip(total_img_paths, total_bg_paths, total_output_paths) ))"
   ]
  }
 ],
 "metadata": {
  "kernelspec": {
   "display_name": "Python 3 (ipykernel)",
   "language": "python",
   "name": "python3"
  },
  "language_info": {
   "codemirror_mode": {
    "name": "ipython",
    "version": 3
   },
   "file_extension": ".py",
   "mimetype": "text/x-python",
   "name": "python",
   "nbconvert_exporter": "python",
   "pygments_lexer": "ipython3",
   "version": "3.9.0"
  }
 },
 "nbformat": 4,
 "nbformat_minor": 5
}
